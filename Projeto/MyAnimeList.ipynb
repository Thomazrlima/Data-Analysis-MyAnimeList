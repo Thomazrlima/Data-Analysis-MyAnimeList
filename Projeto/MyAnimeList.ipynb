{
  "nbformat": 4,
  "nbformat_minor": 0,
  "metadata": {
    "colab": {
      "provenance": []
    },
    "kernelspec": {
      "name": "python3",
      "display_name": "Python 3"
    },
    "language_info": {
      "name": "python"
    }
  },
  "cells": [
    {
      "cell_type": "code",
      "execution_count": 2,
      "metadata": {
        "id": "0-aeRCeTWiDc"
      },
      "outputs": [],
      "source": [
        "import pandas as pd\n",
        "import numpy as np"
      ]
    },
    {
      "cell_type": "code",
      "source": [
        "from google.colab import drive"
      ],
      "metadata": {
        "id": "0THDCwmyWk1H"
      },
      "execution_count": 3,
      "outputs": []
    },
    {
      "cell_type": "code",
      "source": [
        "drive.mount('/content/gdrive')"
      ],
      "metadata": {
        "colab": {
          "base_uri": "https://localhost:8080/"
        },
        "id": "q63ZugnNWm0b",
        "outputId": "5c354707-5640-4b9a-9af3-5b351a694be5"
      },
      "execution_count": 4,
      "outputs": [
        {
          "output_type": "stream",
          "name": "stdout",
          "text": [
            "Mounted at /content/gdrive\n"
          ]
        }
      ]
    },
    {
      "cell_type": "markdown",
      "source": [
        "# Documentação da Tabela de Séries\n",
        "\n",
        "## Descrição das Colunas\n",
        "\n",
        "| Coluna               | Tipo de Dados | Descrição                                                                                                                                 |\n",
        "|----------------------|---------------|-------------------------------------------------------------------------------------------------------------------------------------------|\n",
        "| `series_animedb_id`  | Inteiro       | Identificação única da série no banco de dados.                                                                                           |\n",
        "| `series_title`       | Texto         | Título da série.                                                                                                                          |\n",
        "| `series_type`        | Texto         | Tipo da série (TV, OVA, Filme, etc.).                                                                                                     |\n",
        "| `series_episodes`    | Inteiro       | Número total de episódios da série.                                                                                                       |\n",
        "| `my_id`              | Inteiro       | Identificação única da série.                                                                                                           |\n",
        "| `my_watched_episodes`| Inteiro       | Número de episódios assistidos pelo usuário.                                                                                              |\n",
        "| `my_start_date`      | Data          | Data em que o usuário começou a assistir a série.                                                                                         |\n",
        "| `my_finish_date`     | Data          | Data em que o usuário terminou de assistir a série (se aplicável).                                                                        |\n",
        "| `my_rated`           | Inteiro       | Indicador de avaliação pelo usuário (0 para não avaliado, 1 para avaliado).                                                               |\n",
        "| `my_score`           | Inteiro       | Nota atribuída pelo usuário à série (0-10).                                                                                               |\n",
        "| `my_storage`         | Texto         | Tipo de armazenamento da série (se está salvo localmente ou em outro tipo de mídia).                                                      |\n",
        "| `my_storage_value`   | Inteiro       | Valor associado ao armazenamento (0 para inexistente, 1 para presente).                                                                   |\n",
        "| `my_status`          | Texto         | Status atual da série para o usuário (Ex: \"Completed\", \"Watching\").                                                                       |\n",
        "| `my_comments`        | Texto         | Comentários pessoais do usuário sobre a série.                                                                                            |\n",
        "| `my_times_watched`   | Inteiro       | Número de vezes que o usuário assistiu a série novamente.                                                                                 |\n",
        "| `my_rewatch_value`   | Inteiro       | Valor de rewatch atribuído pelo usuário (1 para sim, 0 para não).                                                                         |\n",
        "| `my_priority`        | Texto         | Prioridade atribuída à série (LOW, MEDIUM, HIGH).                                                                                         |\n",
        "| `my_tags`            | Texto         | Tags associadas à série pelo usuário.                                                                                                     |\n",
        "| `my_rewatching`      | Inteiro       | Indicador se o usuário está reassistindo a série (1 para sim, 0 para não).                                                                |\n",
        "| `my_rewatching_ep`   | Inteiro       | Número de episódios assistidos durante o rewatch.                                                                                         |\n",
        "| `my_discuss`         | Texto         | Discussão ou tópicos relacionados à série.                                                                                                |\n",
        "| `my_sns`             | Texto         | SNS ou rede social associada à série (por exemplo, plataforma de discussão).                                                              |\n",
        "| `update_on_import`   | Inteiro       | Indicador se os dados devem ser atualizados na importação (1 para sim, 0 para não).                                                       |\n",
        "\n",
        "### Exemplo de Entrada:\n",
        "\n",
        "| series_animedb_id | series_title                          | series_type | series_episodes | my_id | my_watched_episodes | my_start_date | my_finish_date | my_rated | my_score | my_storage | my_storage_value | my_status  | my_comments                                                                                           | my_times_watched | my_rewatch_value | my_priority | my_tags   | my_rewatching | my_rewatching_ep | my_discuss | my_sns   | update_on_import |\n",
        "|-------------------|---------------------------------------|-------------|-----------------|-------|---------------------|---------------|----------------|----------|----------|------------|------------------|------------|--------------------------------------------------------------------------------------------------------|------------------|------------------|-------------|-----------|---------------|------------------|------------|----------|------------------|\n",
        "| 52034             | \"Oshi no Ko\"                          | TV          | 11              | 0     | 11                  | 2023-04-12    | 2023-06-28     |          | 1        |            | 0                | Completed  | 🥈: Indiscutivelmente bem produzido, porém raso em conteúdo.                                           | 0                | 0                | LOW         | 🥈        | 0             | 1                | default    | 0        |                  |\n",
        "| 55791             | \"Oshi no Ko\" 2nd Season               | TV          | 13              | 0     | 9                   | 2024-07-03    | 0000-00-00     |          | 6        |            | 0                | Watching   |                                                                                                | 0                | 0                | LOW         |           | 0             | 1                | default    | 0        |                  |\n",
        "| 1583              | 009-1                                 | TV          | 12              | 0     | 12                  | 2024-01-23    | 2024-01-26     |          | 4        |            | 0                | Completed  | Poderia resumir bastante e dizer que ele é simplesmente desinteressante.                                | 0                | 0                | LOW         |           | 0             | 1                | default    | 0        |                  |\n",
        "\n",
        "\n"
      ],
      "metadata": {
        "id": "lUd_QdFqBrfN"
      }
    },
    {
      "cell_type": "code",
      "source": [
        "animelist = pd.read_csv('/content/gdrive/MyDrive/Colab Notebooks/animelist.csv')\n",
        "animelist.head(11)"
      ],
      "metadata": {
        "id": "yodSwb6fXCrO",
        "colab": {
          "base_uri": "https://localhost:8080/",
          "height": 947
        },
        "outputId": "eda105f7-4d11-43c8-a816-5c8958a0666a"
      },
      "execution_count": 8,
      "outputs": [
        {
          "output_type": "execute_result",
          "data": {
            "text/plain": [
              "    series_animedb_id                                       series_title  \\\n",
              "0               52034                                       \"Oshi no Ko\"   \n",
              "1               55791                            \"Oshi no Ko\" 2nd Season   \n",
              "2                1583                                              009-1   \n",
              "3               41380         100-man no Inochi no Ue ni Ore wa Tatteiru   \n",
              "4               44881  100-man no Inochi no Ue ni Ore wa Tatteiru 2nd...   \n",
              "5               31646                                    3-gatsu no Lion   \n",
              "6               35180                         3-gatsu no Lion 2nd Season   \n",
              "7               55973  30-sai made Doutei dato Mahoutsukai ni Nareru ...   \n",
              "8               51464                     4-nin wa Sorezore Uso wo Tsuku   \n",
              "9               38101                               5-toubun no Hanayome   \n",
              "10              39783                             5-toubun no Hanayome ∬   \n",
              "\n",
              "   series_type  series_episodes  my_id  my_watched_episodes my_start_date  \\\n",
              "0           TV               11      0                   11    2023-04-12   \n",
              "1           TV               13      0                    9    2024-07-03   \n",
              "2           TV               12      0                   12    2024-01-23   \n",
              "3           TV               12      0                   12    2022-01-18   \n",
              "4           TV               12      0                   12    2022-01-19   \n",
              "5           TV               22      0                   22    2022-05-15   \n",
              "6           TV               22      0                   22    2023-07-08   \n",
              "7           TV               12      0                   12    2024-01-10   \n",
              "8           TV               11      0                   11    2022-10-15   \n",
              "9           TV               12      0                   12    0000-00-00   \n",
              "10          TV               12      0                   12    2023-02-05   \n",
              "\n",
              "   my_finish_date  my_rated  my_score  ...  my_comments  my_times_watched  \\\n",
              "0      2023-06-28       NaN         1  ...          NaN                 0   \n",
              "1      0000-00-00       NaN         6  ...          NaN                 0   \n",
              "2      2024-01-26       NaN         4  ...          NaN                 0   \n",
              "3      2022-01-19       NaN         2  ...          NaN                 0   \n",
              "4      2022-01-20       NaN         2  ...          NaN                 0   \n",
              "5      2022-05-19       NaN         9  ...          NaN                 0   \n",
              "6      2023-07-10       NaN        10  ...          NaN                 0   \n",
              "7      2024-03-27       NaN         3  ...          NaN                 0   \n",
              "8      2022-12-24       NaN         6  ...          NaN                 0   \n",
              "9      0000-00-00       NaN         5  ...          NaN                 0   \n",
              "10     2023-02-06       NaN         5  ...          NaN                 0   \n",
              "\n",
              "   my_rewatch_value my_priority  \\\n",
              "0               NaN         LOW   \n",
              "1               NaN         LOW   \n",
              "2               NaN         LOW   \n",
              "3               NaN         LOW   \n",
              "4               NaN         LOW   \n",
              "5               NaN         LOW   \n",
              "6               NaN         LOW   \n",
              "7               NaN         LOW   \n",
              "8               NaN         LOW   \n",
              "9               NaN         LOW   \n",
              "10              NaN         LOW   \n",
              "\n",
              "                                              my_tags my_rewatching  \\\n",
              "0   🥈: Indiscutivelmente bem produzido, porém raso...             0   \n",
              "1                                                 NaN             0   \n",
              "2   Poderia resumir bastante e dizer que ele é sim...             0   \n",
              "3   O monólogo do final é tão patético quanto os o...             0   \n",
              "4   Protagonista com complexo de Deus, a personage...             0   \n",
              "5   🥈: O suco do anime de esporte, um desenvolvime...             0   \n",
              "6   💎: Estava muito em dúvida em que nota dar, tan...             0   \n",
              "7   A premissa não me pegou muito desde o princípi...             0   \n",
              "8   Meio Sus, a melhor parte de longe é a do meio,...             0   \n",
              "9   Tem o seu valor, principalmente pelo fator das...             0   \n",
              "10  Queda na qualidade visual é proporcional a mel...             0   \n",
              "\n",
              "   my_rewatching_ep my_discuss   my_sns  update_on_import  \n",
              "0                 0          1  default                 0  \n",
              "1                 0          1  default                 0  \n",
              "2                 0          1  default                 0  \n",
              "3                 0          1  default                 0  \n",
              "4                 0          1  default                 0  \n",
              "5                 0          1  default                 0  \n",
              "6                 0          1  default                 0  \n",
              "7                 0          1  default                 0  \n",
              "8                 0          1  default                 0  \n",
              "9                 0          1  default                 0  \n",
              "10                0          1  default                 0  \n",
              "\n",
              "[11 rows x 23 columns]"
            ],
            "text/html": [
              "\n",
              "  <div id=\"df-df906235-a690-4d81-9d3d-adb462244bcc\" class=\"colab-df-container\">\n",
              "    <div>\n",
              "<style scoped>\n",
              "    .dataframe tbody tr th:only-of-type {\n",
              "        vertical-align: middle;\n",
              "    }\n",
              "\n",
              "    .dataframe tbody tr th {\n",
              "        vertical-align: top;\n",
              "    }\n",
              "\n",
              "    .dataframe thead th {\n",
              "        text-align: right;\n",
              "    }\n",
              "</style>\n",
              "<table border=\"1\" class=\"dataframe\">\n",
              "  <thead>\n",
              "    <tr style=\"text-align: right;\">\n",
              "      <th></th>\n",
              "      <th>series_animedb_id</th>\n",
              "      <th>series_title</th>\n",
              "      <th>series_type</th>\n",
              "      <th>series_episodes</th>\n",
              "      <th>my_id</th>\n",
              "      <th>my_watched_episodes</th>\n",
              "      <th>my_start_date</th>\n",
              "      <th>my_finish_date</th>\n",
              "      <th>my_rated</th>\n",
              "      <th>my_score</th>\n",
              "      <th>...</th>\n",
              "      <th>my_comments</th>\n",
              "      <th>my_times_watched</th>\n",
              "      <th>my_rewatch_value</th>\n",
              "      <th>my_priority</th>\n",
              "      <th>my_tags</th>\n",
              "      <th>my_rewatching</th>\n",
              "      <th>my_rewatching_ep</th>\n",
              "      <th>my_discuss</th>\n",
              "      <th>my_sns</th>\n",
              "      <th>update_on_import</th>\n",
              "    </tr>\n",
              "  </thead>\n",
              "  <tbody>\n",
              "    <tr>\n",
              "      <th>0</th>\n",
              "      <td>52034</td>\n",
              "      <td>\"Oshi no Ko\"</td>\n",
              "      <td>TV</td>\n",
              "      <td>11</td>\n",
              "      <td>0</td>\n",
              "      <td>11</td>\n",
              "      <td>2023-04-12</td>\n",
              "      <td>2023-06-28</td>\n",
              "      <td>NaN</td>\n",
              "      <td>1</td>\n",
              "      <td>...</td>\n",
              "      <td>NaN</td>\n",
              "      <td>0</td>\n",
              "      <td>NaN</td>\n",
              "      <td>LOW</td>\n",
              "      <td>🥈: Indiscutivelmente bem produzido, porém raso...</td>\n",
              "      <td>0</td>\n",
              "      <td>0</td>\n",
              "      <td>1</td>\n",
              "      <td>default</td>\n",
              "      <td>0</td>\n",
              "    </tr>\n",
              "    <tr>\n",
              "      <th>1</th>\n",
              "      <td>55791</td>\n",
              "      <td>\"Oshi no Ko\" 2nd Season</td>\n",
              "      <td>TV</td>\n",
              "      <td>13</td>\n",
              "      <td>0</td>\n",
              "      <td>9</td>\n",
              "      <td>2024-07-03</td>\n",
              "      <td>0000-00-00</td>\n",
              "      <td>NaN</td>\n",
              "      <td>6</td>\n",
              "      <td>...</td>\n",
              "      <td>NaN</td>\n",
              "      <td>0</td>\n",
              "      <td>NaN</td>\n",
              "      <td>LOW</td>\n",
              "      <td>NaN</td>\n",
              "      <td>0</td>\n",
              "      <td>0</td>\n",
              "      <td>1</td>\n",
              "      <td>default</td>\n",
              "      <td>0</td>\n",
              "    </tr>\n",
              "    <tr>\n",
              "      <th>2</th>\n",
              "      <td>1583</td>\n",
              "      <td>009-1</td>\n",
              "      <td>TV</td>\n",
              "      <td>12</td>\n",
              "      <td>0</td>\n",
              "      <td>12</td>\n",
              "      <td>2024-01-23</td>\n",
              "      <td>2024-01-26</td>\n",
              "      <td>NaN</td>\n",
              "      <td>4</td>\n",
              "      <td>...</td>\n",
              "      <td>NaN</td>\n",
              "      <td>0</td>\n",
              "      <td>NaN</td>\n",
              "      <td>LOW</td>\n",
              "      <td>Poderia resumir bastante e dizer que ele é sim...</td>\n",
              "      <td>0</td>\n",
              "      <td>0</td>\n",
              "      <td>1</td>\n",
              "      <td>default</td>\n",
              "      <td>0</td>\n",
              "    </tr>\n",
              "    <tr>\n",
              "      <th>3</th>\n",
              "      <td>41380</td>\n",
              "      <td>100-man no Inochi no Ue ni Ore wa Tatteiru</td>\n",
              "      <td>TV</td>\n",
              "      <td>12</td>\n",
              "      <td>0</td>\n",
              "      <td>12</td>\n",
              "      <td>2022-01-18</td>\n",
              "      <td>2022-01-19</td>\n",
              "      <td>NaN</td>\n",
              "      <td>2</td>\n",
              "      <td>...</td>\n",
              "      <td>NaN</td>\n",
              "      <td>0</td>\n",
              "      <td>NaN</td>\n",
              "      <td>LOW</td>\n",
              "      <td>O monólogo do final é tão patético quanto os o...</td>\n",
              "      <td>0</td>\n",
              "      <td>0</td>\n",
              "      <td>1</td>\n",
              "      <td>default</td>\n",
              "      <td>0</td>\n",
              "    </tr>\n",
              "    <tr>\n",
              "      <th>4</th>\n",
              "      <td>44881</td>\n",
              "      <td>100-man no Inochi no Ue ni Ore wa Tatteiru 2nd...</td>\n",
              "      <td>TV</td>\n",
              "      <td>12</td>\n",
              "      <td>0</td>\n",
              "      <td>12</td>\n",
              "      <td>2022-01-19</td>\n",
              "      <td>2022-01-20</td>\n",
              "      <td>NaN</td>\n",
              "      <td>2</td>\n",
              "      <td>...</td>\n",
              "      <td>NaN</td>\n",
              "      <td>0</td>\n",
              "      <td>NaN</td>\n",
              "      <td>LOW</td>\n",
              "      <td>Protagonista com complexo de Deus, a personage...</td>\n",
              "      <td>0</td>\n",
              "      <td>0</td>\n",
              "      <td>1</td>\n",
              "      <td>default</td>\n",
              "      <td>0</td>\n",
              "    </tr>\n",
              "    <tr>\n",
              "      <th>5</th>\n",
              "      <td>31646</td>\n",
              "      <td>3-gatsu no Lion</td>\n",
              "      <td>TV</td>\n",
              "      <td>22</td>\n",
              "      <td>0</td>\n",
              "      <td>22</td>\n",
              "      <td>2022-05-15</td>\n",
              "      <td>2022-05-19</td>\n",
              "      <td>NaN</td>\n",
              "      <td>9</td>\n",
              "      <td>...</td>\n",
              "      <td>NaN</td>\n",
              "      <td>0</td>\n",
              "      <td>NaN</td>\n",
              "      <td>LOW</td>\n",
              "      <td>🥈: O suco do anime de esporte, um desenvolvime...</td>\n",
              "      <td>0</td>\n",
              "      <td>0</td>\n",
              "      <td>1</td>\n",
              "      <td>default</td>\n",
              "      <td>0</td>\n",
              "    </tr>\n",
              "    <tr>\n",
              "      <th>6</th>\n",
              "      <td>35180</td>\n",
              "      <td>3-gatsu no Lion 2nd Season</td>\n",
              "      <td>TV</td>\n",
              "      <td>22</td>\n",
              "      <td>0</td>\n",
              "      <td>22</td>\n",
              "      <td>2023-07-08</td>\n",
              "      <td>2023-07-10</td>\n",
              "      <td>NaN</td>\n",
              "      <td>10</td>\n",
              "      <td>...</td>\n",
              "      <td>NaN</td>\n",
              "      <td>0</td>\n",
              "      <td>NaN</td>\n",
              "      <td>LOW</td>\n",
              "      <td>💎: Estava muito em dúvida em que nota dar, tan...</td>\n",
              "      <td>0</td>\n",
              "      <td>0</td>\n",
              "      <td>1</td>\n",
              "      <td>default</td>\n",
              "      <td>0</td>\n",
              "    </tr>\n",
              "    <tr>\n",
              "      <th>7</th>\n",
              "      <td>55973</td>\n",
              "      <td>30-sai made Doutei dato Mahoutsukai ni Nareru ...</td>\n",
              "      <td>TV</td>\n",
              "      <td>12</td>\n",
              "      <td>0</td>\n",
              "      <td>12</td>\n",
              "      <td>2024-01-10</td>\n",
              "      <td>2024-03-27</td>\n",
              "      <td>NaN</td>\n",
              "      <td>3</td>\n",
              "      <td>...</td>\n",
              "      <td>NaN</td>\n",
              "      <td>0</td>\n",
              "      <td>NaN</td>\n",
              "      <td>LOW</td>\n",
              "      <td>A premissa não me pegou muito desde o princípi...</td>\n",
              "      <td>0</td>\n",
              "      <td>0</td>\n",
              "      <td>1</td>\n",
              "      <td>default</td>\n",
              "      <td>0</td>\n",
              "    </tr>\n",
              "    <tr>\n",
              "      <th>8</th>\n",
              "      <td>51464</td>\n",
              "      <td>4-nin wa Sorezore Uso wo Tsuku</td>\n",
              "      <td>TV</td>\n",
              "      <td>11</td>\n",
              "      <td>0</td>\n",
              "      <td>11</td>\n",
              "      <td>2022-10-15</td>\n",
              "      <td>2022-12-24</td>\n",
              "      <td>NaN</td>\n",
              "      <td>6</td>\n",
              "      <td>...</td>\n",
              "      <td>NaN</td>\n",
              "      <td>0</td>\n",
              "      <td>NaN</td>\n",
              "      <td>LOW</td>\n",
              "      <td>Meio Sus, a melhor parte de longe é a do meio,...</td>\n",
              "      <td>0</td>\n",
              "      <td>0</td>\n",
              "      <td>1</td>\n",
              "      <td>default</td>\n",
              "      <td>0</td>\n",
              "    </tr>\n",
              "    <tr>\n",
              "      <th>9</th>\n",
              "      <td>38101</td>\n",
              "      <td>5-toubun no Hanayome</td>\n",
              "      <td>TV</td>\n",
              "      <td>12</td>\n",
              "      <td>0</td>\n",
              "      <td>12</td>\n",
              "      <td>0000-00-00</td>\n",
              "      <td>0000-00-00</td>\n",
              "      <td>NaN</td>\n",
              "      <td>5</td>\n",
              "      <td>...</td>\n",
              "      <td>NaN</td>\n",
              "      <td>0</td>\n",
              "      <td>NaN</td>\n",
              "      <td>LOW</td>\n",
              "      <td>Tem o seu valor, principalmente pelo fator das...</td>\n",
              "      <td>0</td>\n",
              "      <td>0</td>\n",
              "      <td>1</td>\n",
              "      <td>default</td>\n",
              "      <td>0</td>\n",
              "    </tr>\n",
              "    <tr>\n",
              "      <th>10</th>\n",
              "      <td>39783</td>\n",
              "      <td>5-toubun no Hanayome ∬</td>\n",
              "      <td>TV</td>\n",
              "      <td>12</td>\n",
              "      <td>0</td>\n",
              "      <td>12</td>\n",
              "      <td>2023-02-05</td>\n",
              "      <td>2023-02-06</td>\n",
              "      <td>NaN</td>\n",
              "      <td>5</td>\n",
              "      <td>...</td>\n",
              "      <td>NaN</td>\n",
              "      <td>0</td>\n",
              "      <td>NaN</td>\n",
              "      <td>LOW</td>\n",
              "      <td>Queda na qualidade visual é proporcional a mel...</td>\n",
              "      <td>0</td>\n",
              "      <td>0</td>\n",
              "      <td>1</td>\n",
              "      <td>default</td>\n",
              "      <td>0</td>\n",
              "    </tr>\n",
              "  </tbody>\n",
              "</table>\n",
              "<p>11 rows × 23 columns</p>\n",
              "</div>\n",
              "    <div class=\"colab-df-buttons\">\n",
              "\n",
              "  <div class=\"colab-df-container\">\n",
              "    <button class=\"colab-df-convert\" onclick=\"convertToInteractive('df-df906235-a690-4d81-9d3d-adb462244bcc')\"\n",
              "            title=\"Convert this dataframe to an interactive table.\"\n",
              "            style=\"display:none;\">\n",
              "\n",
              "  <svg xmlns=\"http://www.w3.org/2000/svg\" height=\"24px\" viewBox=\"0 -960 960 960\">\n",
              "    <path d=\"M120-120v-720h720v720H120Zm60-500h600v-160H180v160Zm220 220h160v-160H400v160Zm0 220h160v-160H400v160ZM180-400h160v-160H180v160Zm440 0h160v-160H620v160ZM180-180h160v-160H180v160Zm440 0h160v-160H620v160Z\"/>\n",
              "  </svg>\n",
              "    </button>\n",
              "\n",
              "  <style>\n",
              "    .colab-df-container {\n",
              "      display:flex;\n",
              "      gap: 12px;\n",
              "    }\n",
              "\n",
              "    .colab-df-convert {\n",
              "      background-color: #E8F0FE;\n",
              "      border: none;\n",
              "      border-radius: 50%;\n",
              "      cursor: pointer;\n",
              "      display: none;\n",
              "      fill: #1967D2;\n",
              "      height: 32px;\n",
              "      padding: 0 0 0 0;\n",
              "      width: 32px;\n",
              "    }\n",
              "\n",
              "    .colab-df-convert:hover {\n",
              "      background-color: #E2EBFA;\n",
              "      box-shadow: 0px 1px 2px rgba(60, 64, 67, 0.3), 0px 1px 3px 1px rgba(60, 64, 67, 0.15);\n",
              "      fill: #174EA6;\n",
              "    }\n",
              "\n",
              "    .colab-df-buttons div {\n",
              "      margin-bottom: 4px;\n",
              "    }\n",
              "\n",
              "    [theme=dark] .colab-df-convert {\n",
              "      background-color: #3B4455;\n",
              "      fill: #D2E3FC;\n",
              "    }\n",
              "\n",
              "    [theme=dark] .colab-df-convert:hover {\n",
              "      background-color: #434B5C;\n",
              "      box-shadow: 0px 1px 3px 1px rgba(0, 0, 0, 0.15);\n",
              "      filter: drop-shadow(0px 1px 2px rgba(0, 0, 0, 0.3));\n",
              "      fill: #FFFFFF;\n",
              "    }\n",
              "  </style>\n",
              "\n",
              "    <script>\n",
              "      const buttonEl =\n",
              "        document.querySelector('#df-df906235-a690-4d81-9d3d-adb462244bcc button.colab-df-convert');\n",
              "      buttonEl.style.display =\n",
              "        google.colab.kernel.accessAllowed ? 'block' : 'none';\n",
              "\n",
              "      async function convertToInteractive(key) {\n",
              "        const element = document.querySelector('#df-df906235-a690-4d81-9d3d-adb462244bcc');\n",
              "        const dataTable =\n",
              "          await google.colab.kernel.invokeFunction('convertToInteractive',\n",
              "                                                    [key], {});\n",
              "        if (!dataTable) return;\n",
              "\n",
              "        const docLinkHtml = 'Like what you see? Visit the ' +\n",
              "          '<a target=\"_blank\" href=https://colab.research.google.com/notebooks/data_table.ipynb>data table notebook</a>'\n",
              "          + ' to learn more about interactive tables.';\n",
              "        element.innerHTML = '';\n",
              "        dataTable['output_type'] = 'display_data';\n",
              "        await google.colab.output.renderOutput(dataTable, element);\n",
              "        const docLink = document.createElement('div');\n",
              "        docLink.innerHTML = docLinkHtml;\n",
              "        element.appendChild(docLink);\n",
              "      }\n",
              "    </script>\n",
              "  </div>\n",
              "\n",
              "\n",
              "<div id=\"df-0e393272-f8c9-4faf-bf1d-951489338a3f\">\n",
              "  <button class=\"colab-df-quickchart\" onclick=\"quickchart('df-0e393272-f8c9-4faf-bf1d-951489338a3f')\"\n",
              "            title=\"Suggest charts\"\n",
              "            style=\"display:none;\">\n",
              "\n",
              "<svg xmlns=\"http://www.w3.org/2000/svg\" height=\"24px\"viewBox=\"0 0 24 24\"\n",
              "     width=\"24px\">\n",
              "    <g>\n",
              "        <path d=\"M19 3H5c-1.1 0-2 .9-2 2v14c0 1.1.9 2 2 2h14c1.1 0 2-.9 2-2V5c0-1.1-.9-2-2-2zM9 17H7v-7h2v7zm4 0h-2V7h2v10zm4 0h-2v-4h2v4z\"/>\n",
              "    </g>\n",
              "</svg>\n",
              "  </button>\n",
              "\n",
              "<style>\n",
              "  .colab-df-quickchart {\n",
              "      --bg-color: #E8F0FE;\n",
              "      --fill-color: #1967D2;\n",
              "      --hover-bg-color: #E2EBFA;\n",
              "      --hover-fill-color: #174EA6;\n",
              "      --disabled-fill-color: #AAA;\n",
              "      --disabled-bg-color: #DDD;\n",
              "  }\n",
              "\n",
              "  [theme=dark] .colab-df-quickchart {\n",
              "      --bg-color: #3B4455;\n",
              "      --fill-color: #D2E3FC;\n",
              "      --hover-bg-color: #434B5C;\n",
              "      --hover-fill-color: #FFFFFF;\n",
              "      --disabled-bg-color: #3B4455;\n",
              "      --disabled-fill-color: #666;\n",
              "  }\n",
              "\n",
              "  .colab-df-quickchart {\n",
              "    background-color: var(--bg-color);\n",
              "    border: none;\n",
              "    border-radius: 50%;\n",
              "    cursor: pointer;\n",
              "    display: none;\n",
              "    fill: var(--fill-color);\n",
              "    height: 32px;\n",
              "    padding: 0;\n",
              "    width: 32px;\n",
              "  }\n",
              "\n",
              "  .colab-df-quickchart:hover {\n",
              "    background-color: var(--hover-bg-color);\n",
              "    box-shadow: 0 1px 2px rgba(60, 64, 67, 0.3), 0 1px 3px 1px rgba(60, 64, 67, 0.15);\n",
              "    fill: var(--button-hover-fill-color);\n",
              "  }\n",
              "\n",
              "  .colab-df-quickchart-complete:disabled,\n",
              "  .colab-df-quickchart-complete:disabled:hover {\n",
              "    background-color: var(--disabled-bg-color);\n",
              "    fill: var(--disabled-fill-color);\n",
              "    box-shadow: none;\n",
              "  }\n",
              "\n",
              "  .colab-df-spinner {\n",
              "    border: 2px solid var(--fill-color);\n",
              "    border-color: transparent;\n",
              "    border-bottom-color: var(--fill-color);\n",
              "    animation:\n",
              "      spin 1s steps(1) infinite;\n",
              "  }\n",
              "\n",
              "  @keyframes spin {\n",
              "    0% {\n",
              "      border-color: transparent;\n",
              "      border-bottom-color: var(--fill-color);\n",
              "      border-left-color: var(--fill-color);\n",
              "    }\n",
              "    20% {\n",
              "      border-color: transparent;\n",
              "      border-left-color: var(--fill-color);\n",
              "      border-top-color: var(--fill-color);\n",
              "    }\n",
              "    30% {\n",
              "      border-color: transparent;\n",
              "      border-left-color: var(--fill-color);\n",
              "      border-top-color: var(--fill-color);\n",
              "      border-right-color: var(--fill-color);\n",
              "    }\n",
              "    40% {\n",
              "      border-color: transparent;\n",
              "      border-right-color: var(--fill-color);\n",
              "      border-top-color: var(--fill-color);\n",
              "    }\n",
              "    60% {\n",
              "      border-color: transparent;\n",
              "      border-right-color: var(--fill-color);\n",
              "    }\n",
              "    80% {\n",
              "      border-color: transparent;\n",
              "      border-right-color: var(--fill-color);\n",
              "      border-bottom-color: var(--fill-color);\n",
              "    }\n",
              "    90% {\n",
              "      border-color: transparent;\n",
              "      border-bottom-color: var(--fill-color);\n",
              "    }\n",
              "  }\n",
              "</style>\n",
              "\n",
              "  <script>\n",
              "    async function quickchart(key) {\n",
              "      const quickchartButtonEl =\n",
              "        document.querySelector('#' + key + ' button');\n",
              "      quickchartButtonEl.disabled = true;  // To prevent multiple clicks.\n",
              "      quickchartButtonEl.classList.add('colab-df-spinner');\n",
              "      try {\n",
              "        const charts = await google.colab.kernel.invokeFunction(\n",
              "            'suggestCharts', [key], {});\n",
              "      } catch (error) {\n",
              "        console.error('Error during call to suggestCharts:', error);\n",
              "      }\n",
              "      quickchartButtonEl.classList.remove('colab-df-spinner');\n",
              "      quickchartButtonEl.classList.add('colab-df-quickchart-complete');\n",
              "    }\n",
              "    (() => {\n",
              "      let quickchartButtonEl =\n",
              "        document.querySelector('#df-0e393272-f8c9-4faf-bf1d-951489338a3f button');\n",
              "      quickchartButtonEl.style.display =\n",
              "        google.colab.kernel.accessAllowed ? 'block' : 'none';\n",
              "    })();\n",
              "  </script>\n",
              "</div>\n",
              "\n",
              "    </div>\n",
              "  </div>\n"
            ],
            "application/vnd.google.colaboratory.intrinsic+json": {
              "type": "dataframe",
              "variable_name": "animelist"
            }
          },
          "metadata": {},
          "execution_count": 8
        }
      ]
    },
    {
      "cell_type": "code",
      "source": [
        "probcomplete = len(animelist[animelist['my_status']== 'Completed']) / len(animelist)"
      ],
      "metadata": {
        "id": "8L4Iu2p2YHpK"
      },
      "execution_count": 9,
      "outputs": []
    },
    {
      "cell_type": "code",
      "source": [
        "print('A probabilidade do anime estar completo é igual a: '+ str(round(probcomplete*100,2)) + '%')"
      ],
      "metadata": {
        "colab": {
          "base_uri": "https://localhost:8080/"
        },
        "id": "nZhIKJWHYswU",
        "outputId": "288c4553-aee8-41e2-8042-4a658b6db1de"
      },
      "execution_count": 10,
      "outputs": [
        {
          "output_type": "stream",
          "name": "stdout",
          "text": [
            "A probabilidade do anime estar completo é igual a: 94.03%\n"
          ]
        }
      ]
    },
    {
      "cell_type": "code",
      "source": [
        "probwatching = len(animelist[animelist['my_status']== 'Watching']) / len(animelist)"
      ],
      "metadata": {
        "id": "actw2-vuY56Y"
      },
      "execution_count": 11,
      "outputs": []
    },
    {
      "cell_type": "code",
      "source": [
        "print('A probabilidade do anime estar completo é igual a: '+ str(round(probwatching*100,2)) + '%')"
      ],
      "metadata": {
        "colab": {
          "base_uri": "https://localhost:8080/"
        },
        "id": "KQIEnefWZFRi",
        "outputId": "af6b1cc5-fbfc-4e54-ff43-3b95f0cc318a"
      },
      "execution_count": 12,
      "outputs": [
        {
          "output_type": "stream",
          "name": "stdout",
          "text": [
            "A probabilidade do anime estar completo é igual a: 1.99%\n"
          ]
        }
      ]
    },
    {
      "cell_type": "code",
      "source": [
        "probdropped = len(animelist[animelist['my_status']== 'Dropped']) / len(animelist)"
      ],
      "metadata": {
        "id": "ARlp9SuhZy-V"
      },
      "execution_count": 13,
      "outputs": []
    },
    {
      "cell_type": "code",
      "source": [
        "print('A probabilidade do anime estar completo é igual a: '+ str(round(probdropped*100,2)) + '%')"
      ],
      "metadata": {
        "colab": {
          "base_uri": "https://localhost:8080/"
        },
        "id": "UbwoN89EZzeL",
        "outputId": "66b6e025-b76a-49fe-b185-418ec70d366d"
      },
      "execution_count": 14,
      "outputs": [
        {
          "output_type": "stream",
          "name": "stdout",
          "text": [
            "A probabilidade do anime estar completo é igual a: 0.84%\n"
          ]
        }
      ]
    },
    {
      "cell_type": "code",
      "source": [
        "agrupamento = animelist['my_status'].value_counts()\n",
        "agrupamento"
      ],
      "metadata": {
        "colab": {
          "base_uri": "https://localhost:8080/",
          "height": 272
        },
        "collapsed": true,
        "id": "W7akofwcaP2o",
        "outputId": "d00061c0-c4cf-4ed0-f98b-583de775c708"
      },
      "execution_count": 15,
      "outputs": [
        {
          "output_type": "execute_result",
          "data": {
            "text/plain": [
              "my_status\n",
              "Completed        897\n",
              "Watching          19\n",
              "Plan to Watch     16\n",
              "On-Hold           14\n",
              "Dropped            8\n",
              "Name: count, dtype: int64"
            ],
            "text/html": [
              "<div>\n",
              "<style scoped>\n",
              "    .dataframe tbody tr th:only-of-type {\n",
              "        vertical-align: middle;\n",
              "    }\n",
              "\n",
              "    .dataframe tbody tr th {\n",
              "        vertical-align: top;\n",
              "    }\n",
              "\n",
              "    .dataframe thead th {\n",
              "        text-align: right;\n",
              "    }\n",
              "</style>\n",
              "<table border=\"1\" class=\"dataframe\">\n",
              "  <thead>\n",
              "    <tr style=\"text-align: right;\">\n",
              "      <th></th>\n",
              "      <th>count</th>\n",
              "    </tr>\n",
              "    <tr>\n",
              "      <th>my_status</th>\n",
              "      <th></th>\n",
              "    </tr>\n",
              "  </thead>\n",
              "  <tbody>\n",
              "    <tr>\n",
              "      <th>Completed</th>\n",
              "      <td>897</td>\n",
              "    </tr>\n",
              "    <tr>\n",
              "      <th>Watching</th>\n",
              "      <td>19</td>\n",
              "    </tr>\n",
              "    <tr>\n",
              "      <th>Plan to Watch</th>\n",
              "      <td>16</td>\n",
              "    </tr>\n",
              "    <tr>\n",
              "      <th>On-Hold</th>\n",
              "      <td>14</td>\n",
              "    </tr>\n",
              "    <tr>\n",
              "      <th>Dropped</th>\n",
              "      <td>8</td>\n",
              "    </tr>\n",
              "  </tbody>\n",
              "</table>\n",
              "</div><br><label><b>dtype:</b> int64</label>"
            ]
          },
          "metadata": {},
          "execution_count": 15
        }
      ]
    },
    {
      "cell_type": "code",
      "source": [
        "agrupamento.plot.pie(legend = True)"
      ],
      "metadata": {
        "colab": {
          "base_uri": "https://localhost:8080/",
          "height": 423
        },
        "id": "Ob8iz-DSbOU9",
        "outputId": "a98b8983-9d58-4b00-9f89-2ee98d033438"
      },
      "execution_count": 16,
      "outputs": [
        {
          "output_type": "execute_result",
          "data": {
            "text/plain": [
              "<Axes: ylabel='count'>"
            ]
          },
          "metadata": {},
          "execution_count": 16
        },
        {
          "output_type": "display_data",
          "data": {
            "text/plain": [
              "<Figure size 640x480 with 1 Axes>"
            ],
            "image/png": "[encoded data removed]"
          },
          "metadata": {}
        }
      ]
    },
    {
      "cell_type": "code",
      "source": [
        "notas = animelist['my_score'].value_counts().sort_index()\n",
        "notas.columns = ['Nota', 'Quantidade']\n",
        "notas"
      ],
      "metadata": {
        "colab": {
          "base_uri": "https://localhost:8080/",
          "height": 460
        },
        "id": "WjdE-l8fbxNp",
        "outputId": "5ded0a06-37ab-4e77-9ee8-46e40e561c91"
      },
      "execution_count": 20,
      "outputs": [
        {
          "output_type": "execute_result",
          "data": {
            "text/plain": [
              "my_score\n",
              "0      38\n",
              "1      39\n",
              "2     113\n",
              "3     135\n",
              "4     112\n",
              "5     113\n",
              "6     115\n",
              "7     103\n",
              "8      88\n",
              "9      76\n",
              "10     22\n",
              "Name: count, dtype: int64"
            ],
            "text/html": [
              "<div>\n",
              "<style scoped>\n",
              "    .dataframe tbody tr th:only-of-type {\n",
              "        vertical-align: middle;\n",
              "    }\n",
              "\n",
              "    .dataframe tbody tr th {\n",
              "        vertical-align: top;\n",
              "    }\n",
              "\n",
              "    .dataframe thead th {\n",
              "        text-align: right;\n",
              "    }\n",
              "</style>\n",
              "<table border=\"1\" class=\"dataframe\">\n",
              "  <thead>\n",
              "    <tr style=\"text-align: right;\">\n",
              "      <th></th>\n",
              "      <th>count</th>\n",
              "    </tr>\n",
              "    <tr>\n",
              "      <th>my_score</th>\n",
              "      <th></th>\n",
              "    </tr>\n",
              "  </thead>\n",
              "  <tbody>\n",
              "    <tr>\n",
              "      <th>0</th>\n",
              "      <td>38</td>\n",
              "    </tr>\n",
              "    <tr>\n",
              "      <th>1</th>\n",
              "      <td>39</td>\n",
              "    </tr>\n",
              "    <tr>\n",
              "      <th>2</th>\n",
              "      <td>113</td>\n",
              "    </tr>\n",
              "    <tr>\n",
              "      <th>3</th>\n",
              "      <td>135</td>\n",
              "    </tr>\n",
              "    <tr>\n",
              "      <th>4</th>\n",
              "      <td>112</td>\n",
              "    </tr>\n",
              "    <tr>\n",
              "      <th>5</th>\n",
              "      <td>113</td>\n",
              "    </tr>\n",
              "    <tr>\n",
              "      <th>6</th>\n",
              "      <td>115</td>\n",
              "    </tr>\n",
              "    <tr>\n",
              "      <th>7</th>\n",
              "      <td>103</td>\n",
              "    </tr>\n",
              "    <tr>\n",
              "      <th>8</th>\n",
              "      <td>88</td>\n",
              "    </tr>\n",
              "    <tr>\n",
              "      <th>9</th>\n",
              "      <td>76</td>\n",
              "    </tr>\n",
              "    <tr>\n",
              "      <th>10</th>\n",
              "      <td>22</td>\n",
              "    </tr>\n",
              "  </tbody>\n",
              "</table>\n",
              "</div><br><label><b>dtype:</b> int64</label>"
            ]
          },
          "metadata": {},
          "execution_count": 20
        }
      ]
    },
    {
      "cell_type": "code",
      "source": [
        "notas.plot.bar(legend = True)"
      ],
      "metadata": {
        "colab": {
          "base_uri": "https://localhost:8080/",
          "height": 471
        },
        "id": "XNtfK0rscOeF",
        "outputId": "26e8b9e6-90b1-401f-9d26-45f4fbf5f8a8"
      },
      "execution_count": 21,
      "outputs": [
        {
          "output_type": "execute_result",
          "data": {
            "text/plain": [
              "<Axes: xlabel='my_score'>"
            ]
          },
          "metadata": {},
          "execution_count": 21
        },
        {
          "output_type": "display_data",
          "data": {
            "text/plain": [
              "<Figure size 640x480 with 1 Axes>"
            ],
            "image/png": "[encoded data removed]"
          },
          "metadata": {}
        }
      ]
    },
    {
      "cell_type": "markdown",
      "source": [],
      "metadata": {
        "id": "7fUSbgkScwCy"
      }
    },
    {
      "cell_type": "code",
      "source": [
        "tipo = animelist['series_type'].value_counts()\n",
        "tipo.plot.pie(legend = False)"
      ],
      "metadata": {
        "colab": {
          "base_uri": "https://localhost:8080/",
          "height": 423
        },
        "id": "T6ij574Xdokm",
        "outputId": "1bbd363c-f0fa-4b3e-da5b-3c51f7a6e3f0"
      },
      "execution_count": 34,
      "outputs": [
        {
          "output_type": "execute_result",
          "data": {
            "text/plain": [
              "<Axes: ylabel='count'>"
            ]
          },
          "metadata": {},
          "execution_count": 34
        },
        {
          "output_type": "display_data",
          "data": {
            "text/plain": [
              "<Figure size 640x480 with 1 Axes>"
            ],
            "image/png": "[encoded data removed]"
          },
          "metadata": {}
        }
      ]
    },
    {
      "cell_type": "code",
      "source": [
        "fp2 = (animelist['series_type']).value_counts().sort_index() / animelist['series_type'].count()\n",
        "print(fp2)"
      ],
      "metadata": {
        "colab": {
          "base_uri": "https://localhost:8080/"
        },
        "id": "2XAFWAOgirgu",
        "outputId": "850ce634-1b51-4114-a767-01dae2dfc435"
      },
      "execution_count": 37,
      "outputs": [
        {
          "output_type": "stream",
          "name": "stdout",
          "text": [
            "series_type\n",
            "Movie         0.161426\n",
            "Music         0.004193\n",
            "ONA           0.074423\n",
            "OVA           0.034591\n",
            "Special       0.006289\n",
            "TV            0.703354\n",
            "TV Special    0.015723\n",
            "Name: count, dtype: float64\n"
          ]
        }
      ]
    },
    {
      "cell_type": "code",
      "source": [
        "fp = (animelist['my_score']).value_counts().sort_index() / animelist['my_score'].count()\n",
        "fp.cumsum()"
      ],
      "metadata": {
        "colab": {
          "base_uri": "https://localhost:8080/",
          "height": 460
        },
        "id": "JahuRVmfkYD0",
        "outputId": "e3a2e80f-8f0d-4570-94a6-a5f592c55abc"
      },
      "execution_count": 55,
      "outputs": [
        {
          "output_type": "execute_result",
          "data": {
            "text/plain": [
              "my_score\n",
              "0     0.039832\n",
              "1     0.080713\n",
              "2     0.199161\n",
              "3     0.340671\n",
              "4     0.458071\n",
              "5     0.576520\n",
              "6     0.697065\n",
              "7     0.805031\n",
              "8     0.897275\n",
              "9     0.976939\n",
              "10    1.000000\n",
              "Name: count, dtype: float64"
            ],
            "text/html": [
              "<div>\n",
              "<style scoped>\n",
              "    .dataframe tbody tr th:only-of-type {\n",
              "        vertical-align: middle;\n",
              "    }\n",
              "\n",
              "    .dataframe tbody tr th {\n",
              "        vertical-align: top;\n",
              "    }\n",
              "\n",
              "    .dataframe thead th {\n",
              "        text-align: right;\n",
              "    }\n",
              "</style>\n",
              "<table border=\"1\" class=\"dataframe\">\n",
              "  <thead>\n",
              "    <tr style=\"text-align: right;\">\n",
              "      <th></th>\n",
              "      <th>count</th>\n",
              "    </tr>\n",
              "    <tr>\n",
              "      <th>my_score</th>\n",
              "      <th></th>\n",
              "    </tr>\n",
              "  </thead>\n",
              "  <tbody>\n",
              "    <tr>\n",
              "      <th>0</th>\n",
              "      <td>0.039832</td>\n",
              "    </tr>\n",
              "    <tr>\n",
              "      <th>1</th>\n",
              "      <td>0.080713</td>\n",
              "    </tr>\n",
              "    <tr>\n",
              "      <th>2</th>\n",
              "      <td>0.199161</td>\n",
              "    </tr>\n",
              "    <tr>\n",
              "      <th>3</th>\n",
              "      <td>0.340671</td>\n",
              "    </tr>\n",
              "    <tr>\n",
              "      <th>4</th>\n",
              "      <td>0.458071</td>\n",
              "    </tr>\n",
              "    <tr>\n",
              "      <th>5</th>\n",
              "      <td>0.576520</td>\n",
              "    </tr>\n",
              "    <tr>\n",
              "      <th>6</th>\n",
              "      <td>0.697065</td>\n",
              "    </tr>\n",
              "    <tr>\n",
              "      <th>7</th>\n",
              "      <td>0.805031</td>\n",
              "    </tr>\n",
              "    <tr>\n",
              "      <th>8</th>\n",
              "      <td>0.897275</td>\n",
              "    </tr>\n",
              "    <tr>\n",
              "      <th>9</th>\n",
              "      <td>0.976939</td>\n",
              "    </tr>\n",
              "    <tr>\n",
              "      <th>10</th>\n",
              "      <td>1.000000</td>\n",
              "    </tr>\n",
              "  </tbody>\n",
              "</table>\n",
              "</div><br><label><b>dtype:</b> float64</label>"
            ]
          },
          "metadata": {},
          "execution_count": 55
        }
      ]
    },
    {
      "cell_type": "code",
      "source": [
        "import matplotlib.pyplot as plt\n",
        "\n",
        "animelist['my_finish_date'] = pd.to_datetime(animelist['my_finish_date'], format=\"%Y-%m-%d\", errors='coerce')\n",
        "\n",
        "animelist['year'] = animelist['my_finish_date'].dt.year\n",
        "\n",
        "filtered_data = animelist[animelist['my_score'] != 0]\n",
        "year_counts = filtered_data['year'].value_counts()\n",
        "\n",
        "valid_years = year_counts[year_counts >= 20].index\n",
        "filtered_data = filtered_data[filtered_data['year'].isin(valid_years)]\n",
        "\n",
        "scores_year = filtered_data.groupby('year')['my_score'].mean()\n",
        "\n",
        "scores_year.plot(kind='line', marker='o', figsize=(10, 6))\n",
        "plt.title('Média das Notas por Ano de Conclusão')\n",
        "plt.xlabel('Ano de Conclusão')\n",
        "plt.ylabel('Média das Notas')\n",
        "plt.grid(True)\n",
        "plt.xticks(ticks= scores_year.index)\n",
        "plt.show()"
      ],
      "metadata": {
        "colab": {
          "base_uri": "https://localhost:8080/",
          "height": 565
        },
        "id": "PugBagvmkzLy",
        "outputId": "6ba9b9d5-5668-4039-9f63-2464d3678f0a"
      },
      "execution_count": 56,
      "outputs": [
        {
          "output_type": "display_data",
          "data": {
            "text/plain": [
              "<Figure size 1000x600 with 1 Axes>"
            ],
            "image/png": "[encoded data removed]"
          },
          "metadata": {}
        }
      ]
    },
    {
      "cell_type": "code",
      "source": [
        "import matplotlib.pyplot as plt\n",
        "\n",
        "def categorize_episodes(n):\n",
        "    if n <= 1:\n",
        "        return '1'\n",
        "    elif 2 <= n <= 6:\n",
        "        return '2-6'\n",
        "    elif 7 <= n <= 11:\n",
        "        return '7-11'\n",
        "    elif 12 <= n <= 14:\n",
        "        return '12-14'\n",
        "    elif 15 <= n <= 28:\n",
        "        return '15-28'\n",
        "    elif 29 <= n <= 55:\n",
        "        return '29-55'\n",
        "    elif 56 <= n <= 100:\n",
        "        return '56-100'\n",
        "    else:\n",
        "        return '101+'\n",
        "\n",
        "animelist['faixa'] = animelist['series_episodes'].apply(categorize_episodes)\n",
        "\n",
        "faixas = animelist['faixa'].value_counts()\n",
        "\n",
        "faixas_df = pd.DataFrame({'Quantidade': faixas})\n",
        "faixas_df = faixas_df.reindex(faixa_order)\n",
        "faixas_df = faixas_df.fillna(0)\n",
        "\n",
        "ax = faixas_df.plot.bar(legend=False, color='skyblue', edgecolor='black')\n",
        "\n",
        "for p in ax.patches:\n",
        "    height = p.get_height()\n",
        "    ax.annotate(f'{int(height)}',\n",
        "                (p.get_x() + p.get_width() / 2., height),\n",
        "                ha='center', va='bottom',\n",
        "                xytext=(0, 3),\n",
        "                textcoords='offset points')\n",
        "\n",
        "plt.xlabel('Faixa de Episódios')\n",
        "plt.ylabel('Quantidade')\n",
        "plt.title('Quantidade de Séries por Faixa de Episódios')\n",
        "plt.show()\n"
      ],
      "metadata": {
        "colab": {
          "base_uri": "https://localhost:8080/",
          "height": 508
        },
        "id": "1KzOLCkQl-7y",
        "outputId": "5af27dd4-163d-4ed1-a7ec-e1328aaadb3f"
      },
      "execution_count": 76,
      "outputs": [
        {
          "output_type": "display_data",
          "data": {
            "text/plain": [
              "<Figure size 640x480 with 1 Axes>"
            ],
            "image/png": "[encoded data removed]"
          },
          "metadata": {}
        }
      ]
    },
    {
      "cell_type": "code",
      "source": [
        "import pandas as pd\n",
        "import matplotlib.pyplot as plt\n",
        "\n",
        "def categorize_episodes(n):\n",
        "    if n <= 1:\n",
        "        return '1'\n",
        "    elif 2 <= n <= 6:\n",
        "        return '2-6'\n",
        "    elif 7 <= n <= 11:\n",
        "        return '7-11'\n",
        "    elif 12 <= n <= 14:\n",
        "        return '12-14'\n",
        "    elif 15 <= n <= 28:\n",
        "        return '15-28'\n",
        "    elif 29 <= n <= 55:\n",
        "        return '29-55'\n",
        "    elif 56 <= n <= 100:\n",
        "        return '56-100'\n",
        "    else:\n",
        "        return '101+'\n",
        "\n",
        "animelist['faixa'] = animelist['series_episodes'].apply(categorize_episodes)\n",
        "\n",
        "faixa_mean_score = animelist.groupby('faixa')['my_score'].mean()\n",
        "\n",
        "faixa_order = ['1', '2-6', '7-11', '12-14', '15-28', '29-55', '56-100', '101+']\n",
        "faixa_mean_score_df = pd.DataFrame({'Mean Score': faixa_mean_score})\n",
        "faixa_mean_score_df = faixa_mean_score_df.reindex(faixa_order)\n",
        "faixa_mean_score_df = faixa_mean_score_df.fillna(0)\n",
        "\n",
        "ax = faixa_mean_score_df.plot.bar(legend=False, color='skyblue', edgecolor='black')\n",
        "\n",
        "for p in ax.patches:\n",
        "    height = p.get_height()\n",
        "    ax.annotate(f'{height:.2f}',\n",
        "                (p.get_x() + p.get_width() / 2., height),\n",
        "                ha='center', va='bottom',\n",
        "                xytext=(0, 3),\n",
        "                textcoords='offset points')\n",
        "\n",
        "plt.xlabel('Faixa de Episódios')\n",
        "plt.ylabel('Pontuação Média')\n",
        "plt.title('Pontuação Média por Faixa de Episódios')\n",
        "plt.show()\n"
      ],
      "metadata": {
        "colab": {
          "base_uri": "https://localhost:8080/",
          "height": 508
        },
        "id": "0zNwfmFNu_W_",
        "outputId": "b99b89f3-550b-47b1-d0b5-7dee599d6e6c"
      },
      "execution_count": 75,
      "outputs": [
        {
          "output_type": "display_data",
          "data": {
            "text/plain": [
              "<Figure size 640x480 with 1 Axes>"
            ],
            "image/png": "[encoded data removed]"
          },
          "metadata": {}
        }
      ]
    }
  ]
}